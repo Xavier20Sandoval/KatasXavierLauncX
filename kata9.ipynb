{
 "cells": [
  {
   "cell_type": "markdown",
   "metadata": {},
   "source": [
    "\n",
    "Ejercicio 1: Trabajar con argumentos en funciones\n",
    "Los argumentos requeridos en las funciones se utilizan cuando las funciones necesitan que esos argumentos funcionen correctamente. En este ejercicio, construirás un informe de combustible que requiere información de varias ubicaciones de combustible en todo el cohete.\n",
    "\n",
    "TIP Dedica unos minutos para tratar de encontrar una solución. Luego desplázate hacia abajo hasta la parte inferior para ver si has logrado compilar el programa de acuerdo con las especificaciones\n",
    "\n",
    "Comienza por crear una función que necesite tres lecturas de combustible y devuelva un informe:"
   ]
  },
  {
   "cell_type": "code",
   "execution_count": 7,
   "metadata": {},
   "outputs": [],
   "source": [
    "def generarReporte(tanqueUno, TanqueDos, TanqueTres):\n",
    "    total_average = (tanqueUno+TanqueDos+TanqueTres) / 3\n",
    "    return f\"\"\"Reporte:\n",
    "    Total : {total_average}%\n",
    "    Tanuqe 1: {tanqueUno}%\n",
    "    Tanque 2: {TanqueDos}%\n",
    "    tanque 3: {TanqueTres}% \n",
    "    \"\"\""
   ]
  },
  {
   "cell_type": "code",
   "execution_count": 8,
   "metadata": {},
   "outputs": [
    {
     "name": "stdout",
     "output_type": "stream",
     "text": [
      "Reporte:\n",
      "    Total : 78.33333333333333%\n",
      "    Tanuqe 1: 80%\n",
      "    Tanque 2: 70%\n",
      "    tanque 3: 85% \n",
      "    \n"
     ]
    }
   ],
   "source": [
    "# Llamamos a la función que genera el reporte print(funcion(tanque1, tanque2, tanque3))\n",
    "print(generarReporte(80, 70, 85))"
   ]
  },
  {
   "cell_type": "code",
   "execution_count": 12,
   "metadata": {},
   "outputs": [
    {
     "name": "stdout",
     "output_type": "stream",
     "text": [
      "El promedio es82.0\n"
     ]
    }
   ],
   "source": [
    "# Función promedio \n",
    "def prom(valores):\n",
    "    total = sum(valores)\n",
    "    numTotal = len(valores)\n",
    "    return total / numTotal\n",
    "\n",
    "# Test the averaging function with a list of integers:\n",
    "print(\"El promedio es: \"+str(prom([80, 85, 81]))) "
   ]
  },
  {
   "cell_type": "code",
   "execution_count": 13,
   "metadata": {},
   "outputs": [
    {
     "name": "stdout",
     "output_type": "stream",
     "text": [
      "Reporte:\n",
      "    Total promedio: 78.0%\n",
      "    tanque 1: 88%\n",
      "    tanque 2: 76%\n",
      "    tanque 3: 70% \n",
      "    \n"
     ]
    }
   ],
   "source": [
    "# Actualiza la función\n",
    "def generarReporte(tanqueUno, TanqueDos, TanqueTres):\n",
    "    return f\"\"\"Reporte:\n",
    "    Total promedio: {prom([tanqueUno, TanqueDos, TanqueTres])}%\n",
    "    tanque 1: {tanqueUno}%\n",
    "    tanque 2: {TanqueDos}%\n",
    "    tanque 3: {TanqueTres}% \n",
    "    \"\"\"\n",
    "\n",
    "# Call the updated function again with different values\n",
    "print(generarReporte(88, 76, 70))"
   ]
  },
  {
   "cell_type": "markdown",
   "metadata": {},
   "source": [
    "Ejercicio 2: Trabajo con argumentos de palabra clave\n",
    "Ejercicio : Trabajar con argumentos de palabras clave en funciones\n",
    "En este ejercicio, construirás un informe de cohete que requiere varias piezas de información, como el tiempo hasta el destino, el combustible a la izquierda y el nombre del destino. Comienza por crear una función que creará un informe preciso de la misión:"
   ]
  },
  {
   "cell_type": "code",
   "execution_count": 23,
   "metadata": {},
   "outputs": [
    {
     "name": "stdout",
     "output_type": "stream",
     "text": [
      "\n",
      "    Mision a Moon\n",
      "    Tiempo total del viaje: 65 minutos\n",
      "    Total de gas: 500000 gallons\n",
      "    \n"
     ]
    }
   ],
   "source": [
    "def reporteMision(pre_launch_time, flight_time, destination, external_tank, main_tank):\n",
    "    return f\"\"\"\n",
    "    Mision a {destination}\n",
    "    Tiempo total del viaje: {pre_launch_time + flight_time} minutos\n",
    "    Total de gas: {external_tank + main_tank} gallons\n",
    "    \"\"\"\n",
    "\n",
    "print(reporteMision(14, 51, \"Moon\", 200000, 300000))"
   ]
  },
  {
   "cell_type": "code",
   "execution_count": 24,
   "metadata": {},
   "outputs": [
    {
     "name": "stdout",
     "output_type": "stream",
     "text": [
      "\n",
      "    mision a: Moon\n",
      "    Total de tiempo del viaje: 76 minutos\n",
      "    Total de tanque: 500000\n",
      "    \n"
     ]
    }
   ],
   "source": [
    "# Escribe tu nueva función de reporte considerando lo anterior\n",
    "\n",
    "def reporteMision(destination, *minutes, **fuel_reservoirs):\n",
    "    return f\"\"\"\n",
    "    mision a: {destination}\n",
    "    Total de tiempo del viaje: {sum(minutes)} minutos\n",
    "    Total de tanque: {sum(fuel_reservoirs.values())}\n",
    "    \"\"\"\n",
    "\n",
    "print(reporteMision(\"Moon\", 10, 15, 51, main=300000, external=200000))"
   ]
  },
  {
   "cell_type": "code",
   "execution_count": 26,
   "metadata": {},
   "outputs": [
    {
     "name": "stdout",
     "output_type": "stream",
     "text": [
      "\n",
      "    Mision a: Luna\n",
      "    Total de tiempo del viaje: 74 minutes\n",
      "    Total del tanque: 500000\n",
      "    main tanque --> 300000 gallones\n",
      "external tanque --> 200000 gallones\n",
      "\n"
     ]
    }
   ],
   "source": [
    "# Escribe tu nueva función\n",
    "\n",
    "def reporteMision(destination, *minutes, **fuel_reservoirs):\n",
    "    main_report = f\"\"\"\n",
    "    Mision a: {destination}\n",
    "    Total de tiempo del viaje: {sum(minutes)} minutos\n",
    "    Total del tanque: {sum(fuel_reservoirs.values())}\n",
    "    \"\"\"\n",
    "    for tank_name, gallons in fuel_reservoirs.items():\n",
    "        main_report += f\"{tank_name} tanque --> {gallons} gallones\\n\"\n",
    "    return main_report\n",
    "\n",
    "print(reporteMision(\"Luna\", 8, 11, 55, main=300000, external=200000))"
   ]
  }
 ],
 "metadata": {
  "interpreter": {
   "hash": "71b5f716c60142fea1cfb196a64b3bf790da575ee701ea3239812ef92813c09a"
  },
  "kernelspec": {
   "display_name": "Python 3.10.2 64-bit",
   "language": "python",
   "name": "python3"
  },
  "language_info": {
   "codemirror_mode": {
    "name": "ipython",
    "version": 3
   },
   "file_extension": ".py",
   "mimetype": "text/x-python",
   "name": "python",
   "nbconvert_exporter": "python",
   "pygments_lexer": "ipython3",
   "version": "3.10.2"
  },
  "orig_nbformat": 4
 },
 "nbformat": 4,
 "nbformat_minor": 2
}
